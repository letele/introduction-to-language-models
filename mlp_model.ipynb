{
 "cells": [
  {
   "cell_type": "markdown",
   "id": "bae041ee-6438-4761-89f4-405ccf6d9a3a",
   "metadata": {},
   "source": [
    "# Multi layer perceptron model\n",
    "This is an improved approach of predicting names from the bigram_model and is based on three layers:\n",
    "1. The embedding matrix layer\n",
    "2. One hidden layer \n",
    "3. Logits / log-counts\n",
    "\n",
    "The architecture of the model follows from Bengio et al. 2003. along side Andrej Karparthy's series of makemore. see reference\n",
    "\n",
    "## 1. Embedding matrix layer\n",
    "- An **embedding** is a mapping of discrete symbols to continuous vectors.\n",
    "    - Text is embedded (converted) to vectors (numerical values) for better analysis\n",
    "- An **embedding matrix** is a list of all text and their corresponding embeddings.\n",
    "    - each row represents an embedding (vector) for a text.\n",
    "    - each column represents the dimension of an embedding.\n",
    "        - size of dimension: choosing the size of the dimension is arbitrary.\n",
    "   \n",
    "## 2. Hidden layer\n",
    "- The hidden layer is made up of 200 neurons chosen arbitrarily.\n",
    "- Inputs of the hidden inputs are block_size * dim, where:\n",
    "    - block_size is the number of characters used to predict the next one\n",
    "    - dim: The dimension of each embedding vector\n",
    "- We used tanh as the activation function in the hidden layer\n",
    "\n",
    "## 3. Logits / log-counts\n",
    "- There are 27 logits in the final layer. 26 for all letters and 1 for the ending special character\n",
    "- The final layer has a softmax function that creates a  probability distribution of the 27 possible outcomes.\n",
    "\n",
    "## Reference\n",
    "1. Bengio, Y.et al. 2003. *A Neural Probabilistic Language Model.* Available at: https://www.jmlr.org/papers/volume3/bengio03a/bengio03a.pdf (Accessed 27 December 2022). \n",
    "\n",
    "2. Karparthy (2022) *Building makemore Part 2: MLP.* Available at: https://www.youtube.com/watch?v=TCH_1BHY58I (Accessed 27 December 2022).\n",
    "\n",
    "3. Golberg, Y. 2017. *Neural Network Methods for Natural Language Processing.* Lonoon: Morgan & Claypool"
   ]
  },
  {
   "cell_type": "code",
   "execution_count": 1,
   "id": "838d571a-f78b-48f8-8fc7-a4eb6e5100ed",
   "metadata": {},
   "outputs": [],
   "source": [
    "import random\n",
    "import torch\n",
    "import torch.nn.functional as F\n",
    "import matplotlib.pyplot as plt\n",
    "%matplotlib inline"
   ]
  },
  {
   "cell_type": "markdown",
   "id": "54c0ba90-32ef-4900-8b88-be9a5ac5162a",
   "metadata": {},
   "source": [
    "### Build the dataset"
   ]
  },
  {
   "cell_type": "code",
   "execution_count": 2,
   "id": "3744530d-f60c-42eb-8a28-3231939d42b5",
   "metadata": {},
   "outputs": [],
   "source": [
    "words = open('data/names.txt','r').read().splitlines()\n",
    "\n",
    "# get all characters from words\n",
    "chars = sorted(list(set(''.join(words))))\n",
    "\n",
    "# look up dictionary of characters: string to integer(stoi) mapping\n",
    "stoi = {letter:index+1 for index, letter in enumerate(chars)}\n",
    "\n",
    "# start and end special character\n",
    "stoi['.'] = 0\n",
    "\n",
    "# # look up dictionary of character indexes: integer to string mapping\n",
    "itos = {letter:index for index, letter in stoi.items()} \n",
    "\n",
    "# function that splits words into inputs(X) of size block_size and outputs (Y)\n",
    "def build_dataset(words, block_size):\n",
    "    # block_size: number of characters used to predict the next character\n",
    "    X,Y= [],[]\n",
    "    for w in words:\n",
    "        context = [0]*block_size\n",
    "        for ch in w + '.':\n",
    "            ix = stoi[ch]\n",
    "            X.append(context)\n",
    "            Y.append(ix)\n",
    "            context = context[1:] + [ix] #remove first item and append last\n",
    "\n",
    "    X = torch.tensor(X)\n",
    "    Y = torch.tensor(Y)\n",
    "\n",
    "    print(f'X shape:{X.shape}, Y shape: {Y.shape}')\n",
    "    return X, Y"
   ]
  },
  {
   "cell_type": "markdown",
   "id": "d294d08c-a67e-44cb-8fcc-7253d4811eef",
   "metadata": {},
   "source": [
    "### Split the dataset in three parts\n",
    "1. Training data\n",
    "2. Validation data\n",
    "3. Test data"
   ]
  },
  {
   "cell_type": "code",
   "execution_count": 3,
   "id": "00ce51b2-99fb-401d-bbf6-f625b2bf5e4d",
   "metadata": {},
   "outputs": [
    {
     "name": "stdout",
     "output_type": "stream",
     "text": [
      "X shape:torch.Size([182625, 4]), Y shape: torch.Size([182625])\n",
      "X shape:torch.Size([22655, 4]), Y shape: torch.Size([22655])\n",
      "X shape:torch.Size([22866, 4]), Y shape: torch.Size([22866])\n"
     ]
    }
   ],
   "source": [
    "block_size = 4\n",
    "random.seed(42)\n",
    "\n",
    "random.shuffle(words)\n",
    "\n",
    "n1 = int(0.8*len(words)) # training split (80%)\n",
    "n2 = int(0.9*len(words)) #validation split (10%)\n",
    "\n",
    "#Split dataset into training, validation, and evaluation phases\n",
    "\n",
    "#training split (80%): for optimising parameters of model\n",
    "Xtr, Ytr = build_dataset(words[:n1], block_size)\n",
    "\n",
    "#dev/validation split (10%): for development over all hyperparameters of model\n",
    "Xdev, Ydev = build_dataset(words[n1:n2], block_size)\n",
    "\n",
    "# test split (10%): to evaluate the performance of the model at the end\n",
    "Xtest, Ytest = build_dataset(words[n2:], block_size)"
   ]
  },
  {
   "cell_type": "markdown",
   "id": "494d23cb-c98b-4493-b500-d00a6dfa58b2",
   "metadata": {},
   "source": [
    "### Initialize the network"
   ]
  },
  {
   "cell_type": "code",
   "execution_count": 4,
   "id": "6fe0b623-1cf7-4a33-a5a9-2f8aacad07e7",
   "metadata": {},
   "outputs": [
    {
     "name": "stdout",
     "output_type": "stream",
     "text": [
      "sum of parameters: 55247\n"
     ]
    }
   ],
   "source": [
    "#seed\n",
    "g = torch.Generator().manual_seed(710)\n",
    "\n",
    "#build the embedding matrix\n",
    "dim = 60 #number of dimensions/columns, chosen arbitrarily\n",
    "# There are 27 possible characters,i.e. length of stoi\n",
    "C = torch.randn((len(stoi),dim), generator=g)\n",
    "\n",
    "#construct hidden layer\n",
    "num_inputs = block_size*dim\n",
    "num_neurons = 200 #arbitrary\n",
    "#weights\n",
    "W1 = torch.randn((num_inputs,num_neurons),generator=g)\n",
    "#bias\n",
    "b1 = torch.randn(num_neurons,generator=g)\n",
    "\n",
    "#construct final layer\n",
    "num_inputs = num_neurons\n",
    "num_neurons = 27 \n",
    "#weights\n",
    "W2 = torch.randn((num_inputs,num_neurons),generator=g)*0.01 \n",
    "#bias\n",
    "b2 = torch.randn(num_neurons,generator=g)*0\n",
    "\n",
    "\n",
    "# function that foward propagates the network\n",
    "def foward_pass(X, Y=None):\n",
    "    emb = C[X] #embedded matrix\n",
    "    h = torch.tanh(emb.view(emb.shape[0],block_size*dim)@W1 + b1) #hidden layer\n",
    "    logits = h @ W2 + b2 #log-counts\n",
    "\n",
    "    return F.softmax(logits,dim=1) if Y is None else F.cross_entropy(logits,Y)\n",
    "\n",
    "#cluster all parameters into single list\n",
    "parameters = [C, W1, b1, W2, b2]\n",
    "print(f'sum of parameters: {sum(p.nelement() for p in parameters)}')\n",
    "\n",
    "for p in parameters:\n",
    "    p.requires_grad = True"
   ]
  },
  {
   "cell_type": "markdown",
   "id": "f102f9af-a6cc-4ff8-9fd1-f83af5479abb",
   "metadata": {},
   "source": [
    "### Train the network"
   ]
  },
  {
   "cell_type": "code",
   "execution_count": 5,
   "id": "e63c1801-ba22-4bb0-9e4a-7355fbc664c1",
   "metadata": {},
   "outputs": [
    {
     "name": "stdout",
     "output_type": "stream",
     "text": [
      "      0/ 200000 : 3.2750\n",
      "  10000/ 200000 : 1.9456\n",
      "  20000/ 200000 : 2.3292\n",
      "  30000/ 200000 : 1.9036\n",
      "  40000/ 200000 : 2.2044\n",
      "  50000/ 200000 : 2.2857\n",
      "  60000/ 200000 : 1.8274\n",
      "  70000/ 200000 : 2.3535\n",
      "  80000/ 200000 : 2.4402\n",
      "  90000/ 200000 : 2.4963\n",
      " 100000/ 200000 : 2.0374\n",
      " 110000/ 200000 : 2.1880\n",
      " 120000/ 200000 : 1.9607\n",
      " 130000/ 200000 : 1.9276\n",
      " 140000/ 200000 : 2.0275\n",
      " 150000/ 200000 : 1.7357\n",
      " 160000/ 200000 : 1.9887\n",
      " 170000/ 200000 : 2.1507\n",
      " 180000/ 200000 : 2.1251\n",
      " 190000/ 200000 : 1.8419\n"
     ]
    }
   ],
   "source": [
    "#keep track of learning rates and losses based on learing rates\n",
    "losses, steps = [],[] \n",
    "batch_size, iters =32, 200000\n",
    "for i in range(iters):\n",
    "    \n",
    "    #minibatch construct\n",
    "    ix = torch.randint(0, Xtr.shape[0],(batch_size,))\n",
    "    \n",
    "    #foward pass\n",
    "    loss = foward_pass(Xtr[ix], Ytr[ix])\n",
    "\n",
    "    #backward pass\n",
    "    for p in parameters:\n",
    "        p.grad = None #set gradients to zero\n",
    "    loss.backward() #populate gradients\n",
    "    \n",
    "    #update parameters\n",
    "    lr = 0.1 if i < 100000 else 0.01\n",
    "    for p in parameters:\n",
    "        p.data += -lr * p.grad\n",
    "    \n",
    "    #track stats\n",
    "    if i%10000==0:\n",
    "        print(f'{i:7d}/{iters:7d} : {loss.item():.4f}')\n",
    "    losses.append(loss.log10().item())\n",
    "    steps.append(i)\n",
    "    "
   ]
  },
  {
   "cell_type": "code",
   "execution_count": 6,
   "id": "eb82ef9c-ee81-4ae6-8712-c9f3df2093af",
   "metadata": {},
   "outputs": [
    {
     "data": {
      "image/png": "[encoded data removed]",
      "text/plain": [
       "<Figure size 640x480 with 1 Axes>"
      ]
     },
     "metadata": {},
     "output_type": "display_data"
    }
   ],
   "source": [
    "_ = plt.plot(steps,losses) #for checking learning rate"
   ]
  },
  {
   "cell_type": "code",
   "execution_count": 7,
   "id": "37d383aa-f8c0-4d9d-825b-a63bc8b94eba",
   "metadata": {},
   "outputs": [
    {
     "name": "stdout",
     "output_type": "stream",
     "text": [
      "loss on training data:  1.9924\n"
     ]
    }
   ],
   "source": [
    "#loss on training data\n",
    "with torch.no_grad():\n",
    "    print(f'loss on training data: {foward_pass(Xtr, Ytr).item(): .4f}')"
   ]
  },
  {
   "cell_type": "code",
   "execution_count": 8,
   "id": "a16cdafe-0687-4858-968a-7f89c9cae5c9",
   "metadata": {},
   "outputs": [
    {
     "name": "stdout",
     "output_type": "stream",
     "text": [
      "loss on validation data:  2.1202\n"
     ]
    }
   ],
   "source": [
    "#Vdev/validation of the model\n",
    "with torch.no_grad():\n",
    "    print(f'loss on validation data: {foward_pass(Xdev, Ydev).item(): .4f}')\n"
   ]
  },
  {
   "cell_type": "markdown",
   "id": "4d5f9600-7c4d-4979-8335-338a9919a243",
   "metadata": {},
   "source": [
    "### Sample from the model"
   ]
  },
  {
   "cell_type": "code",
   "execution_count": 9,
   "id": "7909f008-2dd5-4230-9ed8-3ca6c951dba1",
   "metadata": {},
   "outputs": [
    {
     "name": "stdout",
     "output_type": "stream",
     "text": [
      "jaciel.\n",
      "emmo.\n",
      "mica.\n",
      "shanensim.\n",
      "hylie.\n",
      "sanch.\n",
      "roam.\n",
      "davin.\n",
      "hadlyon.\n",
      "intiton.\n"
     ]
    }
   ],
   "source": [
    "g = torch.Generator().manual_seed(710)\n",
    "\n",
    "for _ in range(10):\n",
    "    out = []\n",
    "    context = [0]*block_size\n",
    "    while True:\n",
    "        with torch.no_grad():\n",
    "            probs = foward_pass(torch.tensor([context])) \n",
    "        ix = torch.multinomial(probs,num_samples=1,generator=g).item()\n",
    "        context = context[1:] + [ix]\n",
    "        out.append(ix)\n",
    "        if ix == 0:\n",
    "            break\n",
    "    print(''.join(itos[i] for i in out))"
   ]
  },
  {
   "cell_type": "code",
   "execution_count": null,
   "id": "d0bede55-2a58-4785-b2ba-e4ae71df4515",
   "metadata": {},
   "outputs": [],
   "source": []
  }
 ],
 "metadata": {
  "kernelspec": {
   "display_name": "Python 3 (ipykernel)",
   "language": "python",
   "name": "python3"
  },
  "language_info": {
   "codemirror_mode": {
    "name": "ipython",
    "version": 3
   },
   "file_extension": ".py",
   "mimetype": "text/x-python",
   "name": "python",
   "nbconvert_exporter": "python",
   "pygments_lexer": "ipython3",
   "version": "3.7.5"
  }
 },
 "nbformat": 4,
 "nbformat_minor": 5
}
